{
 "cells": [
  {
   "cell_type": "code",
   "execution_count": null,
   "metadata": {},
   "outputs": [],
   "source": [
    "# google colab\n",
    "\n",
    "!pip install folium pandas"
   ]
  },
  {
   "cell_type": "markdown",
   "metadata": {},
   "source": [
    "# Map\n",
    "\n",
    "This section focuses on the getting of data and creation of the map"
   ]
  },
  {
   "cell_type": "markdown",
   "metadata": {},
   "source": [
    "https://apex.oracle.com/pls/apex/hackathonjune2024/NilePProject/GpsData?gpsId=1&longi=43.434&lati=434.3443&TimeStamp=2024-06-12 09:43:32&targetOBJ=Boat&gpsOrigin=real"
   ]
  },
  {
   "cell_type": "code",
   "execution_count": null,
   "metadata": {},
   "outputs": [],
   "source": [
    "import requests\n",
    "\n",
    "url = 'https://apex.oracle.com/pls/apex/hackathonjune2024/NilePProject/GpsData?gpsId=1'\n",
    "\n",
    "r = requests.get(url)\n",
    "\n",
    "\n",
    "print(r.status_code)\n",
    "print(\"ok\")\n",
    "\n",
    "def get_request():\n",
    "    # implement request and store response as json\n",
    "    pass"
   ]
  },
  {
   "cell_type": "code",
   "execution_count": null,
   "metadata": {
    "colab": {
     "base_uri": "https://localhost:8080/"
    },
    "id": "Gkq69Ap50chw",
    "outputId": "98f01314-2756-4333-dca6-368251eae930"
   },
   "outputs": [],
   "source": [
    "import json\n",
    "import folium\n",
    "from folium.plugins import MarkerCluster\n",
    "import pandas as pd"
   ]
  },
  {
   "cell_type": "code",
   "execution_count": null,
   "metadata": {},
   "outputs": [],
   "source": [
    "fg = folium.FeatureGroup(\"Lines\") # use to plot lines from coordinates on the map\n",
    "\n",
    "\n",
    "def create_geolocation():\n",
    "    coords_all = df[[\"lat\", \"long\"]].reset_index(drop=True)\n",
    "    coords_start = [df.loc[0, \"lat\"], df.loc[0, \"long\"]]\n",
    "    time_start = df.loc[0, \"timestamp\"]\n",
    "    coord_last = [df.loc[(len(df) - 1), \"lat\"], df.loc[(len(df) - 1), \"long\"]]\n",
    "    time_last = df.loc[(len(df) - 1), \"timestamp\"]\n",
    "    vehicle_last = df.loc[(len(df) - 1), \"tracked_object\"]\n",
    "        \n",
    "    basemap = folium.Map(location = coord_last, zoom_start = 13)\n",
    "    # folium.PolyLine(coord_list).add_to(basemap)\n",
    "    folium.PolyLine(coords_all).add_to(basemap)\n",
    "    fg.add_to(basemap)\n",
    "    folium.LayerControl(position='bottomright').add_to(basemap)\n",
    "\n",
    "    folium.Marker(coords_start, popup = f'Started at time: {time_start}', color = \"red\").add_to(basemap)\n",
    "    folium.Marker(coord_last, popup = f'Last Seen at time: {time_last}\\nVehicle: {vehicle_last}', color = \"blue\").add_to(basemap)\n",
    "\n",
    "    basemap.save(\"map.html\")\n",
    "\n",
    "def convert_json_to_dataframe(json_object):\n",
    "    return pd.read_json(json_object)\n",
    "\n",
    "\n",
    "df = convert_json_to_dataframe(\"20240612_162723_tracking_data.json\")\n",
    "\n",
    "create_geolocation()"
   ]
  },
  {
   "cell_type": "code",
   "execution_count": null,
   "metadata": {
    "id": "NWFsS7zs-KHm"
   },
   "outputs": [],
   "source": [
    "import webbrowser\n",
    "\n",
    "webbrowser.open(\"map.html\")"
   ]
  },
  {
   "cell_type": "markdown",
   "metadata": {},
   "source": [
    "# Testing"
   ]
  },
  {
   "cell_type": "code",
   "execution_count": 1,
   "metadata": {},
   "outputs": [],
   "source": [
    "# testing ground to implement different color lines for each transportation used"
   ]
  },
  {
   "cell_type": "code",
   "execution_count": null,
   "metadata": {},
   "outputs": [],
   "source": [
    "fg = folium.FeatureGroup(\"Lines\") # use to plot lines from coordinates on the map\n",
    "coords = []\n",
    "startpoint_marker = []\n",
    "endpoint_marker = []\n",
    "\n",
    "\n",
    "def create_geolocation(coord_list: list):\n",
    "  print(coord_list[(len(coord_list) - 1)][0])\n",
    "  idx_nr = (len(coord_list) - 1)\n",
    "  try:\n",
    "    basemap = folium.Map(location = [coord_list[idx_nr][0], coord_list[idx_nr][1]], zoom_start = 13)\n",
    "  except:\n",
    "    print(f\"basemap error\")\n",
    "\n",
    "\n",
    "  for x in range(len(coord_list)):\n",
    "    try:\n",
    "      folium.PolyLine([coord_list[0], coord_list[1]], color = coord_list[2]).add_to(basemap)\n",
    "    except:\n",
    "      print(f\"Possible mismatch while creating route, coord:[ {coord_list[x][0]}, {coord_list[x][1]} ],and color: {coord_list[2]}\")\n",
    "\n",
    "  fg.add_to(basemap)\n",
    "  folium.LayerControl(position='bottomright').add_to(basemap)\n",
    "\n",
    "\n",
    "  folium.Marker([startpoint_marker[0][0], startpoint_marker[0][1]], popup = 'Starting Point', color = \"red\").add_to(basemap)\n",
    "  folium.Marker([endpoint_marker[0][0], endpoint_marker[0][1]], popup = 'Last Point Seen', color = \"blue\").add_to(basemap)\n",
    "  basemap.save(\"line.html\")\n",
    "  clear_lists()\n",
    "\n",
    "\n",
    "def convert_json_to_dataframe(json_object):\n",
    "  return pd.read_json(json_object)\n",
    "\n",
    "\n",
    "def get_geolocation_from_df(dataframe: object):\n",
    "  for index, row in df.iterrows():\n",
    "    if row[\"tracked_object\"] == \"boat\":\n",
    "      coords.append([row[\"lat\"], row[\"long\"], \"blue\"])\n",
    "    if row[\"tracked_object\"] == \"plane\":\n",
    "      coords.append([row[\"lat\"], row[\"long\"], \"yellow\"])\n",
    "    if row[\"tracked_object\"] == \"truck\":\n",
    "      coords.append([row[\"lat\"], row[\"long\"], \"green\"])\n",
    "\n",
    "  startpoint_marker.append(coords[0])\n",
    "  endpoint_marker.append(coords[(len(coords) - 1)])\n",
    "\n",
    "\n",
    "def clear_lists():\n",
    "  coords.clear()\n",
    "  startpoint_marker.clear()\n",
    "  endpoint_marker.clear()\n",
    "\n",
    "df = convert_json_to_dataframe(\"mocked_tracking_data_4.json\")"
   ]
  },
  {
   "cell_type": "code",
   "execution_count": null,
   "metadata": {},
   "outputs": [],
   "source": [
    "get_geolocation_from_df(df)\n",
    "create_geolocation(coords)"
   ]
  }
 ],
 "metadata": {
  "colab": {
   "provenance": []
  },
  "kernelspec": {
   "display_name": "Python 3 (ipykernel)",
   "language": "python",
   "name": "python3"
  },
  "language_info": {
   "codemirror_mode": {
    "name": "ipython",
    "version": 3
   },
   "file_extension": ".py",
   "mimetype": "text/x-python",
   "name": "python",
   "nbconvert_exporter": "python",
   "pygments_lexer": "ipython3",
   "version": "3.12.4"
  }
 },
 "nbformat": 4,
 "nbformat_minor": 4
}
