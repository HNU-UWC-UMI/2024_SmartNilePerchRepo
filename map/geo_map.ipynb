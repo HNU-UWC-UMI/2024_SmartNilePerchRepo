{
 "cells": [
  {
   "cell_type": "code",
   "execution_count": null,
   "metadata": {},
   "outputs": [],
   "source": [
    "# google colab\n",
    "\n",
    "!pip install folium pandas"
   ]
  },
  {
   "cell_type": "markdown",
   "metadata": {},
   "source": [
    "# Map\n",
    "\n",
    "This section focuses on the getting of data and creation of the map"
   ]
  },
  {
   "cell_type": "code",
   "execution_count": 1,
   "metadata": {
    "colab": {
     "base_uri": "https://localhost:8080/"
    },
    "id": "Gkq69Ap50chw",
    "outputId": "98f01314-2756-4333-dca6-368251eae930"
   },
   "outputs": [],
   "source": [
    "import json\n",
    "import folium\n",
    "from folium.plugins import MarkerCluster\n",
    "import pandas as pd"
   ]
  },
  {
   "cell_type": "code",
   "execution_count": 2,
   "metadata": {},
   "outputs": [],
   "source": [
    "fg = folium.FeatureGroup(\"Lines\") # use to plot lines from coordinates on the map\n",
    "coords = []\n",
    "startpoint_marker = []\n",
    "endpoint_marker = []"
   ]
  },
  {
   "cell_type": "code",
   "execution_count": 3,
   "metadata": {},
   "outputs": [],
   "source": [
    "def convert_json_to_dataframe(json_object):\n",
    "    return pd.read_json(json_object)\n",
    "\n",
    "\n",
    "def get_geolocation_from_df(dataframe: object):\n",
    "    for index, row in df.iterrows():\n",
    "        coords.append([row[\"lat\"], row[\"long\"]])\n",
    "\n",
    "    startpoint_marker.append(coords[0])\n",
    "    endpoint_marker.append(coords[(len(coords) - 1)])\n",
    "\n",
    "\n",
    "def create_geolocation(coord_list:list):\n",
    "    idx_nr = (len(coord_list) - 1)\n",
    "    basemap = folium.Map(location = coord_list[idx_nr], zoom_start = 13)\n",
    "    folium.PolyLine(coord_list).add_to(basemap)\n",
    "    fg.add_to(basemap)\n",
    "    folium.LayerControl(position='bottomright').add_to(basemap)\n",
    "\n",
    "    folium.Marker(startpoint_marker[0], popup = 'Starting Point', color = \"red\").add_to(basemap)\n",
    "    folium.Marker(endpoint_marker[0], popup = 'Last Point Seen', color = \"blue\").add_to(basemap)\n",
    "\n",
    "    basemap.save(\"map.html\")\n",
    "    clear_lists()\n",
    "\n",
    "\n",
    "def clear_lists():\n",
    "  coords.clear()\n",
    "  startpoint_marker.clear()\n",
    "  endpoint_marker.clear()"
   ]
  },
  {
   "cell_type": "code",
   "execution_count": 5,
   "metadata": {
    "id": "GtuHwZq-0wjK"
   },
   "outputs": [
    {
     "name": "stdout",
     "output_type": "stream",
     "text": [
      "          lat       long                  timestamp tracked_object\n",
      "0   -0.563281  33.044217 2024-06-12 18:27:23.147382           boat\n",
      "1    0.152246  32.801322 2024-06-12 18:27:23.147382          truck\n",
      "2    0.176063  32.792878 2024-06-12 19:27:23.147382          truck\n",
      "3    0.196553  32.795913 2024-06-12 20:27:23.147382          truck\n",
      "4    0.214565  32.803639 2024-06-12 21:27:23.147382          truck\n",
      "5    0.251213  32.816163 2024-06-12 22:27:23.147382          truck\n",
      "6    0.267419  32.812246 2024-06-12 23:27:23.147382          truck\n",
      "7    0.294232  32.784884 2024-06-13 00:27:23.147382          truck\n",
      "8    0.312383  32.773089 2024-06-13 01:27:23.147382          truck\n",
      "9    0.333583  32.761493 2024-06-13 02:27:23.147382          truck\n",
      "10   0.350703  32.761511 2024-06-13 03:27:23.147382          truck\n",
      "11   0.367533  32.739148 2024-06-13 04:27:23.147382          truck\n",
      "12   0.370083  32.716215 2024-06-13 05:27:23.147382          truck\n",
      "13   0.354241  32.674537 2024-06-13 06:27:23.147382          truck\n",
      "14   0.350337  32.655759 2024-06-13 07:27:23.147382          truck\n",
      "15   0.340877  32.632142 2024-06-13 08:27:23.147382          truck\n",
      "16   0.329759  32.613526 2024-06-13 09:27:23.147382          truck\n",
      "17   0.316823  32.593583 2024-06-13 10:27:23.147382          truck\n",
      "18   0.327487  32.583812 2024-06-13 11:27:23.147382          truck\n",
      "19   0.328114  32.570023 2024-06-13 12:27:23.147382          truck\n",
      "20   0.329774  32.563856 2024-06-13 13:27:23.147382          truck\n",
      "21   0.348963  32.562743 2024-06-13 14:27:23.147382          truck\n",
      "22   0.339088  32.532773 2024-06-13 15:27:23.147382          truck\n",
      "23   0.303100  32.512665 2024-06-13 16:27:23.147382          truck\n",
      "24   0.269232  32.520568 2024-06-13 17:27:23.147382          truck\n",
      "25   0.238383  32.523942 2024-06-13 18:27:23.147382          truck\n",
      "26   0.210609  32.530202 2024-06-13 19:27:23.147382          truck\n",
      "27   0.171487  32.515192 2024-06-13 20:27:23.147382          truck\n",
      "28   0.118740  32.511784 2024-06-13 21:27:23.147382          truck\n",
      "29   0.094370  32.501540 2024-06-13 22:27:23.147382          truck\n",
      "30   0.086647  32.484964 2024-06-13 23:27:23.147382          truck\n",
      "31   0.069888  32.476339 2024-06-14 00:27:23.147382          truck\n",
      "32   0.056288  32.469995 2024-06-14 01:27:23.147382          truck\n",
      "33   0.052955  32.455899 2024-06-14 02:27:23.147382          truck\n",
      "34   0.052815  32.440026 2024-06-14 03:27:23.147382          truck\n",
      "35  25.256819  55.364318 2024-06-14 07:27:23.147382          plane\n",
      "36  50.898982   4.483330 2024-06-14 10:27:23.147382          plane\n",
      "ok\n"
     ]
    }
   ],
   "source": [
    "df = convert_json_to_dataframe(\"20240612_162723_tracking_data.json\")\n",
    "\n",
    "print(df)\n",
    "\n",
    "get_geolocation_from_df(df)\n",
    "create_geolocation(coords)\n",
    "\n",
    "print(\"ok\")"
   ]
  },
  {
   "cell_type": "code",
   "execution_count": null,
   "metadata": {
    "id": "Neg3rQWk0Fts"
   },
   "outputs": [],
   "source": [
    "def get_request():\n",
    "    # implement request and store response as json\n",
    "    pass"
   ]
  },
  {
   "cell_type": "code",
   "execution_count": null,
   "metadata": {
    "id": "NWFsS7zs-KHm"
   },
   "outputs": [],
   "source": [
    "import webbrowser\n",
    "\n",
    "webbrowser.open(\"example.html\")"
   ]
  },
  {
   "cell_type": "markdown",
   "metadata": {},
   "source": [
    "# Testing"
   ]
  },
  {
   "cell_type": "code",
   "execution_count": 1,
   "metadata": {},
   "outputs": [],
   "source": [
    "# testing ground to implement different color lines for each transportation used"
   ]
  },
  {
   "cell_type": "code",
   "execution_count": null,
   "metadata": {},
   "outputs": [],
   "source": [
    "fg = folium.FeatureGroup(\"Lines\") # use to plot lines from coordinates on the map\n",
    "coords = []\n",
    "startpoint_marker = []\n",
    "endpoint_marker = []\n",
    "\n",
    "\n",
    "def create_geolocation(coord_list: list):\n",
    "  print(coord_list[(len(coord_list) - 1)][0])\n",
    "  idx_nr = (len(coord_list) - 1)\n",
    "  try:\n",
    "    basemap = folium.Map(location = [coord_list[idx_nr][0], coord_list[idx_nr][1]], zoom_start = 13)\n",
    "  except:\n",
    "    print(f\"basemap error\")\n",
    "\n",
    "\n",
    "  for x in range(len(coord_list)):\n",
    "    try:\n",
    "      folium.PolyLine([coord_list[0], coord_list[1]], color = coord_list[2]).add_to(basemap)\n",
    "    except:\n",
    "      print(f\"Possible mismatch while creating route, coord:[ {coord_list[x][0]}, {coord_list[x][1]} ],and color: {coord_list[2]}\")\n",
    "\n",
    "  fg.add_to(basemap)\n",
    "  folium.LayerControl(position='bottomright').add_to(basemap)\n",
    "\n",
    "\n",
    "  folium.Marker([startpoint_marker[0][0], startpoint_marker[0][1]], popup = 'Starting Point', color = \"red\").add_to(basemap)\n",
    "  folium.Marker([endpoint_marker[0][0], endpoint_marker[0][1]], popup = 'Last Point Seen', color = \"blue\").add_to(basemap)\n",
    "  basemap.save(\"line.html\")\n",
    "  clear_lists()\n",
    "\n",
    "\n",
    "def convert_json_to_dataframe(json_object):\n",
    "  return pd.read_json(json_object)\n",
    "\n",
    "\n",
    "def get_geolocation_from_df(dataframe: object):\n",
    "  for index, row in df.iterrows():\n",
    "    if row[\"tracked_object\"] == \"boat\":\n",
    "      coords.append([row[\"lat\"], row[\"long\"], \"blue\"])\n",
    "    if row[\"tracked_object\"] == \"plane\":\n",
    "      coords.append([row[\"lat\"], row[\"long\"], \"yellow\"])\n",
    "    if row[\"tracked_object\"] == \"truck\":\n",
    "      coords.append([row[\"lat\"], row[\"long\"], \"green\"])\n",
    "\n",
    "  startpoint_marker.append(coords[0])\n",
    "  endpoint_marker.append(coords[(len(coords) - 1)])\n",
    "\n",
    "\n",
    "def clear_lists():\n",
    "  coords.clear()\n",
    "  startpoint_marker.clear()\n",
    "  endpoint_marker.clear()\n",
    "\n",
    "df = convert_json_to_dataframe(\"mocked_tracking_data_4.json\")"
   ]
  },
  {
   "cell_type": "code",
   "execution_count": null,
   "metadata": {},
   "outputs": [],
   "source": [
    "get_geolocation_from_df(df)\n",
    "create_geolocation(coords)"
   ]
  }
 ],
 "metadata": {
  "colab": {
   "provenance": []
  },
  "kernelspec": {
   "display_name": "Python 3 (ipykernel)",
   "language": "python",
   "name": "python3"
  },
  "language_info": {
   "codemirror_mode": {
    "name": "ipython",
    "version": 3
   },
   "file_extension": ".py",
   "mimetype": "text/x-python",
   "name": "python",
   "nbconvert_exporter": "python",
   "pygments_lexer": "ipython3",
   "version": "3.12.4"
  }
 },
 "nbformat": 4,
 "nbformat_minor": 4
}
